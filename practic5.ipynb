{
 "cells": [
  {
   "cell_type": "code",
   "execution_count": 1,
   "id": "7bd1b552-04ef-48c0-a166-4ba1a31501fc",
   "metadata": {
    "tags": []
   },
   "outputs": [
    {
     "ename": "KeyError",
     "evalue": "9",
     "output_type": "error",
     "traceback": [
      "\u001b[1;31m---------------------------------------------------------------------------\u001b[0m",
      "\u001b[1;31mKeyError\u001b[0m                                  Traceback (most recent call last)",
      "Cell \u001b[1;32mIn[1], line 47\u001b[0m\n\u001b[0;32m     32\u001b[0m         \u001b[38;5;28;01mreturn\u001b[39;00m result\n\u001b[0;32m     35\u001b[0m graph \u001b[38;5;241m=\u001b[39m {\n\u001b[0;32m     36\u001b[0m     \u001b[38;5;241m1\u001b[39m: [\u001b[38;5;241m2\u001b[39m, \u001b[38;5;241m3\u001b[39m],\n\u001b[0;32m     37\u001b[0m     \u001b[38;5;241m2\u001b[39m: [\u001b[38;5;241m4\u001b[39m],\n\u001b[1;32m   (...)\u001b[0m\n\u001b[0;32m     43\u001b[0m     \u001b[38;5;241m8\u001b[39m: [\u001b[38;5;241m9\u001b[39m]\n\u001b[0;32m     44\u001b[0m }\n\u001b[1;32m---> 47\u001b[0m topological_order \u001b[38;5;241m=\u001b[39m topological_sort(graph)\n\u001b[0;32m     49\u001b[0m \u001b[38;5;28;01mif\u001b[39;00m topological_order:\n\u001b[0;32m     50\u001b[0m     \u001b[38;5;28mprint\u001b[39m(\u001b[38;5;124m\"\u001b[39m\u001b[38;5;124mПропоноване топологічне сортування:\u001b[39m\u001b[38;5;124m\"\u001b[39m, topological_order)\n",
      "Cell \u001b[1;32mIn[1], line 22\u001b[0m, in \u001b[0;36mtopological_sort\u001b[1;34m(graph)\u001b[0m\n\u001b[0;32m     20\u001b[0m vertex \u001b[38;5;241m=\u001b[39m without_incoming_edges\u001b[38;5;241m.\u001b[39mpop()\n\u001b[0;32m     21\u001b[0m result\u001b[38;5;241m.\u001b[39mappend(vertex)\n\u001b[1;32m---> 22\u001b[0m \u001b[38;5;28;01mfor\u001b[39;00m neighbor \u001b[38;5;129;01min\u001b[39;00m graph[vertex]:\n\u001b[0;32m     23\u001b[0m     in_degree[neighbor] \u001b[38;5;241m-\u001b[39m\u001b[38;5;241m=\u001b[39m \u001b[38;5;241m1\u001b[39m\n\u001b[0;32m     24\u001b[0m     \u001b[38;5;28;01mif\u001b[39;00m in_degree[neighbor] \u001b[38;5;241m==\u001b[39m \u001b[38;5;241m0\u001b[39m:\n",
      "\u001b[1;31mKeyError\u001b[0m: 9"
     ]
    }
   ],
   "source": [
    "from collections import defaultdict\n",
    "\n",
    "def topological_sort(graph):\n",
    "    result = []\n",
    "    in_degree = defaultdict(int)\n",
    "    without_incoming_edges = set()\n",
    "    \n",
    "   \n",
    "    for vertex in graph:\n",
    "        for neighbor in graph[vertex]:\n",
    "            in_degree[neighbor] += 1\n",
    "    \n",
    "   \n",
    "    for vertex in graph:\n",
    "        if vertex not in in_degree:\n",
    "            without_incoming_edges.add(vertex)\n",
    "    \n",
    "    \n",
    "    while without_incoming_edges:\n",
    "        vertex = without_incoming_edges.pop()\n",
    "        result.append(vertex)\n",
    "        for neighbor in graph[vertex]:\n",
    "            in_degree[neighbor] -= 1\n",
    "            if in_degree[neighbor] == 0:\n",
    "                without_incoming_edges.add(neighbor)\n",
    "    \n",
    "    \n",
    "    if len(result) != len(graph):\n",
    "        print(\"Граф має принаймні один цикл\")\n",
    "        return None\n",
    "    else:\n",
    "        return result\n",
    "\n",
    "\n",
    "graph = {\n",
    "    1: [2, 3],\n",
    "    2: [4],\n",
    "    3: [5],\n",
    "    4: [5, 6],\n",
    "    5: [7],\n",
    "    6: [7],\n",
    "    7: [8],\n",
    "    8: [9]\n",
    "}\n",
    "\n",
    "\n",
    "topological_order = topological_sort(graph)\n",
    "\n",
    "if topological_order:\n",
    "    print(\"Пропоноване топологічне сортування:\", topological_order)\n"
   ]
  },
  {
   "cell_type": "code",
   "execution_count": null,
   "id": "c39febc6-c604-4b7e-a878-597c5c098602",
   "metadata": {},
   "outputs": [],
   "source": []
  }
 ],
 "metadata": {
  "kernelspec": {
   "display_name": "Python 3 (ipykernel)",
   "language": "python",
   "name": "python3"
  },
  "language_info": {
   "codemirror_mode": {
    "name": "ipython",
    "version": 3
   },
   "file_extension": ".py",
   "mimetype": "text/x-python",
   "name": "python",
   "nbconvert_exporter": "python",
   "pygments_lexer": "ipython3",
   "version": "3.11.7"
  }
 },
 "nbformat": 4,
 "nbformat_minor": 5
}
